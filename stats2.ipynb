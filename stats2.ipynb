{
  "nbformat": 4,
  "nbformat_minor": 0,
  "metadata": {
    "colab": {
      "provenance": []
    },
    "kernelspec": {
      "name": "python3",
      "display_name": "Python 3"
    },
    "language_info": {
      "name": "python"
    }
  },
  "cells": [
    {
      "cell_type": "code",
      "source": [
        "import pandas as pd\n",
        "import numpy as np\n",
        "import scipy.stats as stats\n",
        "from scipy.stats import t, norm"
      ],
      "metadata": {
        "id": "c-1j2uGqkKB7"
      },
      "execution_count": 1,
      "outputs": []
    },
    {
      "cell_type": "code",
      "source": [
        "data = [1.13, 1.55, 1.43, 0.92, 1.25, 1.36, 1.32, 0.85, 1.07,\n",
        "        1.48, 1.20, 1.33, 1.18, 1.22, 1.29]\n",
        "series = pd.Series(data)"
      ],
      "metadata": {
        "id": "UxTiuq4X5ji9"
      },
      "execution_count": 33,
      "outputs": []
    },
    {
      "cell_type": "code",
      "source": [
        "n = len(series)\n",
        "mean = series.mean()\n",
        "sample_std = series.std()\n",
        "df = n - 1\n",
        "\n",
        "confidence_level = 0.99\n",
        "alpha = 1 - confidence_level\n",
        "t_critical = t.ppf(1 - alpha/2, df)\n",
        "\n",
        "\n",
        "margin_error = t_critical * (sample_std / np.sqrt(n))"
      ],
      "metadata": {
        "id": "HQbvb5cl53yz"
      },
      "execution_count": 34,
      "outputs": []
    },
    {
      "cell_type": "code",
      "source": [
        "lower_bound = mean - margin_error\n",
        "upper_bound = mean + margin_error"
      ],
      "metadata": {
        "id": "AesTMc-I55Gq"
      },
      "execution_count": 35,
      "outputs": []
    },
    {
      "cell_type": "code",
      "source": [
        "print(f\"Sample Mean: {mean:.4f}\")\n",
        "print(f\"Sample Std Dev: {sample_std:.4f}\")\n",
        "print(f\"t-critical value (df={df}): {t_critical:.4f}\")\n",
        "print(f\"Margin of Error: {margin_error:.4f}\")\n",
        "print(f\"99% Confidence Interval: ({lower_bound:.4f}, {upper_bound:.4f})\")\n"
      ],
      "metadata": {
        "colab": {
          "base_uri": "https://localhost:8080/"
        },
        "id": "ZT8IjVr658R8",
        "outputId": "b3efafff-d688-40d5-8e95-ff3b41ae54cf"
      },
      "execution_count": 36,
      "outputs": [
        {
          "output_type": "stream",
          "name": "stdout",
          "text": [
            "Sample Mean: 1.2387\n",
            "Sample Std Dev: 0.1932\n",
            "t-critical value (df=14): 2.9768\n",
            "Margin of Error: 0.1485\n",
            "99% Confidence Interval: (1.0902, 1.3871)\n"
          ]
        }
      ]
    },
    {
      "cell_type": "code",
      "source": [
        "data = [1.13, 1.55, 1.43, 0.92, 1.25, 1.36, 1.32, 0.85, 1.07,\n",
        "        1.48, 1.20, 1.33, 1.18, 1.22, 1.29]\n",
        "series = pd.Series(data)\n"
      ],
      "metadata": {
        "id": "_Z1uV8TQ6EGV"
      },
      "execution_count": 37,
      "outputs": []
    },
    {
      "cell_type": "code",
      "source": [
        "n = len(series)\n",
        "mean = series.mean()\n",
        "pop_std = 0.2\n",
        "confidence_level = 0.99\n",
        "alpha = 1 - confidence_level"
      ],
      "metadata": {
        "id": "FWIPIWRQ6R-V"
      },
      "execution_count": 38,
      "outputs": []
    },
    {
      "cell_type": "code",
      "source": [
        "z_critical = norm.ppf(1 - alpha/2)\n",
        "margin_error = z_critical * (pop_std / np.sqrt(n))\n",
        "\n",
        "lower_bound = mean - margin_error\n",
        "upper_bound = mean + margin_error\n"
      ],
      "metadata": {
        "id": "VGJDWlzo6XiP"
      },
      "execution_count": 39,
      "outputs": []
    },
    {
      "cell_type": "code",
      "source": [
        "print(f\"Sample Mean: {mean:.4f}\")\n",
        "print(f\"Known Population Std Dev (σ): {pop_std}\")\n",
        "print(f\"z-critical value: {z_critical:.4f}\")\n",
        "print(f\"Margin of Error: {margin_error:.4f}\")\n",
        "print(f\"99% Confidence Interval: ({lower_bound:.4f}, {upper_bound:.4f})\")"
      ],
      "metadata": {
        "colab": {
          "base_uri": "https://localhost:8080/"
        },
        "id": "kkVVpH066Zoj",
        "outputId": "0643c34a-e636-4e33-8aac-fef995219d9c"
      },
      "execution_count": 40,
      "outputs": [
        {
          "output_type": "stream",
          "name": "stdout",
          "text": [
            "Sample Mean: 1.2387\n",
            "Known Population Std Dev (σ): 0.2\n",
            "z-critical value: 2.5758\n",
            "Margin of Error: 0.1330\n",
            "99% Confidence Interval: (1.1057, 1.3717)\n"
          ]
        }
      ]
    },
    {
      "cell_type": "code",
      "source": [],
      "metadata": {
        "id": "9XTpOLAw6fuE"
      },
      "execution_count": null,
      "outputs": []
    }
  ]
}